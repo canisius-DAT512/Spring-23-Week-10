{
  "nbformat": 4,
  "nbformat_minor": 0,
  "metadata": {
    "colab": {
      "provenance": [],
      "toc_visible": true,
      "authorship_tag": "ABX9TyNzNPHbZppHzkGPSWs4SUH5",
      "include_colab_link": true
    },
    "kernelspec": {
      "name": "python3",
      "display_name": "Python 3"
    },
    "language_info": {
      "name": "python"
    }
  },
  "cells": [
    {
      "cell_type": "markdown",
      "metadata": {
        "id": "view-in-github",
        "colab_type": "text"
      },
      "source": [
        "<a href=\"https://colab.research.google.com/github/canisius-DAT512/Spring-23-Week-10/blob/main/Customer_Segmentation.ipynb\" target=\"_parent\"><img src=\"https://colab.research.google.com/assets/colab-badge.svg\" alt=\"Open In Colab\"/></a>"
      ]
    },
    {
      "cell_type": "markdown",
      "source": [
        "#Customer Segmentation and Analysis\n",
        "DAT 512 Canisius College\n",
        "Adjunct Professor Paul Lambson\n",
        "\n",
        "Learning Objectives\n",
        "- Discuss customer insights and analytics\n",
        "- Evaluate transactional data versus survey data\n",
        "- Create metrics that reflect behavior\n",
        "- Perform a customer segmentation"
      ],
      "metadata": {
        "id": "gw_56RDa7UBq"
      }
    },
    {
      "cell_type": "markdown",
      "source": [
        "## Customer Analysis\n",
        "\n",
        "**500 words on customer analysis from ChatGPT**\n",
        "\n",
        "Customer analytics is a field of study that focuses on the analysis of customer behavior and purchasing patterns. It is the use of data and statistics to help companies better understand their customers, their needs, preferences, and behaviors. The origin of customer analytics dates back to the late 19th century when companies began using data to understand their customers better.\n",
        "\n",
        "One of the earliest pioneers of customer analytics was Arthur C. Nielsen, who founded the Nielsen Company in 1923. The Nielsen Company became one of the first companies to use data to understand consumer behavior. Nielsen developed a method to track the sales of consumer goods and analyze the data to provide insights into consumer behavior.\n",
        "\n",
        "In the 1930s, a statistician named William Edwards Deming developed a set of statistical methods that helped businesses to improve their quality control processes. Deming's work laid the foundation for the use of statistical methods in business and paved the way for customer analytics.\n",
        "\n",
        "The rise of computers in the 1950s and 1960s marked a turning point in the history of customer analytics. With the development of computers and software, companies could store and analyze vast amounts of data. This led to the emergence of customer relationship management (CRM) systems, which allowed companies to track customer interactions and gather data on customer behavior.\n",
        "\n",
        "The 1980s saw the emergence of database marketing, which involved the use of customer data to create targeted marketing campaigns. Companies could use data to identify customers who were likely to purchase their products and create personalized marketing messages for those customers.\n",
        "\n",
        "In the 1990s, the rise of the internet led to a significant increase in the amount of data that companies could gather on their customers. Companies could track customers' online behavior, such as which products they viewed or added to their shopping carts. This led to the development of web analytics, which allowed companies to analyze customer behavior on their websites and optimize their online marketing efforts.\n",
        "\n",
        "In recent years, the advent of big data and machine learning has transformed the field of customer analytics. Companies can now collect and analyze vast amounts of data from a variety of sources, including social media, mobile devices, and the Internet of Things (IoT). Machine learning algorithms can analyze this data and identify patterns and trends that would be difficult or impossible for humans to identify.\n",
        "\n",
        "In conclusion, customer analytics has a long and rich history that dates back to the early 20th century. The field has evolved significantly over the years, from the early days of tracking sales data to the modern era of big data and machine learning. As companies continue to gather more data on their customers, customer analytics will continue to play a vital role in helping businesses to understand their customers and provide them with better products and services.\n",
        "\n"
      ],
      "metadata": {
        "id": "3iX2ntLzkFRU"
      }
    },
    {
      "cell_type": "markdown",
      "source": [
        "## What does a company know about you?\n",
        "Discussion: \n",
        "- How does a company define a customer?\n",
        "- What data points can they combine?\n",
        "- What does combined data allow?\n",
        "\n",
        "[Target's Predictive Pregnancy](https://www.nytimes.com/2012/02/19/magazine/shopping-habits.html?smid=url-share)\n",
        "\n",
        "About a year after Pole created his pregnancy-prediction model, a man walked into a Target outside Minneapolis and demanded to see the manager. He was clutching coupons that had been sent to his daughter, and he was angry, according to an employee who participated in the conversation.\n",
        "\n",
        "“My daughter got this in the mail!” he said. “She’s still in high school, and you’re sending her coupons for baby clothes and cribs? Are you trying to encourage her to get pregnant?”\n",
        "\n",
        "The manager didn’t have any idea what the man was talking about. He looked at the mailer. Sure enough, it was addressed to the man’s daughter and contained advertisements for maternity clothing, nursery furniture and pictures of smiling infants. The manager apologized and then called a few days later to apologize again.\n",
        "\n",
        "On the phone, though, the father was somewhat abashed. “I had a talk with my daughter,” he said. “It turns out there’s been some activities in my house I haven’t been completely aware of. She’s due in August. I owe you an apology.”"
      ],
      "metadata": {
        "id": "-AzIL2oNqX8e"
      }
    },
    {
      "cell_type": "markdown",
      "source": [
        "What do we know about The Look Customers?\n",
        "Brainstom\n",
        "\n",
        "1. ??\n",
        "2. ??\n",
        "3. ??\n",
        "\n",
        "Go and find out those things\n"
      ],
      "metadata": {
        "id": "g1uZvZ8xtD_K"
      }
    },
    {
      "cell_type": "code",
      "execution_count": 94,
      "metadata": {
        "id": "w6DRhlSm7PbZ"
      },
      "outputs": [],
      "source": [
        "# authenticate with the google account used in console\n",
        "from google.colab import auth\n",
        "auth.authenticate_user()"
      ]
    },
    {
      "cell_type": "code",
      "source": [
        "import pandas as pd\n",
        "project_id = 'tla-consultants'"
      ],
      "metadata": {
        "id": "-bWq1YvH7tcO"
      },
      "execution_count": 95,
      "outputs": []
    },
    {
      "cell_type": "markdown",
      "source": [
        "# Example of a Customer Segmentation\n",
        "1. [Gather customer attributes and normalize](https://colab.research.google.com/drive/14ND0HRqqmlNJ58WBOj4fslbysvzw0zIB#scrollTo=kRchiv8ig-R9&line=1&uniqifier=1)\n",
        "2. [Combine data into single dataset](https://colab.research.google.com/drive/14ND0HRqqmlNJ58WBOj4fslbysvzw0zIB#scrollTo=HAE0e-_SJGy3&line=1&uniqifier=1)\n",
        "3. [Determine optimal number of clusters](https://colab.research.google.com/drive/14ND0HRqqmlNJ58WBOj4fslbysvzw0zIB#scrollTo=JTHVex_jPfAK&line=1&uniqifier=1)\n",
        "4. [Evaluate cluster characteristics](https://colab.research.google.com/drive/14ND0HRqqmlNJ58WBOj4fslbysvzw0zIB#scrollTo=MOmTyXsSiAZJ&line=1&uniqifier=1) \n",
        "5. [Define psuedonyms for clusters](https://colab.research.google.com/drive/14ND0HRqqmlNJ58WBOj4fslbysvzw0zIB#scrollTo=ob4dg6ItiNny&line=1&uniqifier=1)"
      ],
      "metadata": {
        "id": "yIIURwzCgAfi"
      }
    },
    {
      "cell_type": "markdown",
      "source": [
        "## 1.Gather customer attributes"
      ],
      "metadata": {
        "id": "kRchiv8ig-R9"
      }
    },
    {
      "cell_type": "markdown",
      "source": [
        "### User Purchase Counts"
      ],
      "metadata": {
        "id": "gPcBijeG05o8"
      }
    },
    {
      "cell_type": "code",
      "source": [
        "sql = '''\n",
        "SELECT \n",
        "  user_id,\n",
        "  count(*) order_count \n",
        "FROM `bigquery-public-data.thelook_ecommerce.orders` \n",
        "where status not in ('Returned','Cancelled')\n",
        "group by 1\n",
        "'''\n",
        "\n",
        "user_order_count = pd.io.gbq.read_gbq(sql,project_id=project_id,\n",
        "                                      index_col='user_id')"
      ],
      "metadata": {
        "id": "_9yuUBZs7vOf"
      },
      "execution_count": 98,
      "outputs": []
    },
    {
      "cell_type": "code",
      "source": [
        "user_order_count.value_counts()"
      ],
      "metadata": {
        "colab": {
          "base_uri": "https://localhost:8080/"
        },
        "id": "VYAAAYYy8GGS",
        "outputId": "d5c2805e-1ad9-4519-bc9c-ac27ff862104"
      },
      "execution_count": 99,
      "outputs": [
        {
          "output_type": "execute_result",
          "data": {
            "text/plain": [
              "order_count\n",
              "1              46133\n",
              "2              14477\n",
              "3               4088\n",
              "4               1587\n",
              "dtype: int64"
            ]
          },
          "metadata": {},
          "execution_count": 99
        }
      ]
    },
    {
      "cell_type": "code",
      "source": [
        "user_orders = pd.get_dummies(user_order_count['order_count'],prefix='orders')"
      ],
      "metadata": {
        "id": "mziJKBcsy2vy"
      },
      "execution_count": 100,
      "outputs": []
    },
    {
      "cell_type": "markdown",
      "source": [
        "### User Product Purchase History"
      ],
      "metadata": {
        "id": "v_MzxUWmv_AM"
      }
    },
    {
      "cell_type": "code",
      "source": [
        "sql = '''\n",
        "SELECT\n",
        "  user_id,\n",
        "  p.category,\n",
        "  COUNT(*) purchase_count\n",
        "FROM\n",
        "  `bigquery-public-data.thelook_ecommerce.order_items` oi\n",
        "JOIN\n",
        "  `bigquery-public-data.thelook_ecommerce.products` p\n",
        "ON\n",
        "  oi.product_id = p.id\n",
        "WHERE\n",
        "  status NOT IN ('Returned','Cancelled')\n",
        "GROUP BY 1,2\n",
        "'''\n",
        "\n",
        "user_products_cat = pd.io.gbq.read_gbq(sql,project_id=project_id,\n",
        "                                      index_col='user_id')"
      ],
      "metadata": {
        "id": "eLnylDM6o4dV"
      },
      "execution_count": 101,
      "outputs": []
    },
    {
      "cell_type": "code",
      "source": [
        "user_products_cat.head()"
      ],
      "metadata": {
        "colab": {
          "base_uri": "https://localhost:8080/",
          "height": 237
        },
        "id": "yCmnzky8qU23",
        "outputId": "9119ca52-99b7-4d53-b1ec-a61c79e5d043"
      },
      "execution_count": 102,
      "outputs": [
        {
          "output_type": "execute_result",
          "data": {
            "text/plain": [
              "              category  purchase_count\n",
              "user_id                               \n",
              "31926    Clothing Sets               1\n",
              "93599    Clothing Sets               1\n",
              "98633    Clothing Sets               1\n",
              "15894    Clothing Sets               1\n",
              "74802    Clothing Sets               1"
            ],
            "text/html": [
              "\n",
              "  <div id=\"df-d8bd4f79-1f57-4906-841d-9d23a78ae699\">\n",
              "    <div class=\"colab-df-container\">\n",
              "      <div>\n",
              "<style scoped>\n",
              "    .dataframe tbody tr th:only-of-type {\n",
              "        vertical-align: middle;\n",
              "    }\n",
              "\n",
              "    .dataframe tbody tr th {\n",
              "        vertical-align: top;\n",
              "    }\n",
              "\n",
              "    .dataframe thead th {\n",
              "        text-align: right;\n",
              "    }\n",
              "</style>\n",
              "<table border=\"1\" class=\"dataframe\">\n",
              "  <thead>\n",
              "    <tr style=\"text-align: right;\">\n",
              "      <th></th>\n",
              "      <th>category</th>\n",
              "      <th>purchase_count</th>\n",
              "    </tr>\n",
              "    <tr>\n",
              "      <th>user_id</th>\n",
              "      <th></th>\n",
              "      <th></th>\n",
              "    </tr>\n",
              "  </thead>\n",
              "  <tbody>\n",
              "    <tr>\n",
              "      <th>31926</th>\n",
              "      <td>Clothing Sets</td>\n",
              "      <td>1</td>\n",
              "    </tr>\n",
              "    <tr>\n",
              "      <th>93599</th>\n",
              "      <td>Clothing Sets</td>\n",
              "      <td>1</td>\n",
              "    </tr>\n",
              "    <tr>\n",
              "      <th>98633</th>\n",
              "      <td>Clothing Sets</td>\n",
              "      <td>1</td>\n",
              "    </tr>\n",
              "    <tr>\n",
              "      <th>15894</th>\n",
              "      <td>Clothing Sets</td>\n",
              "      <td>1</td>\n",
              "    </tr>\n",
              "    <tr>\n",
              "      <th>74802</th>\n",
              "      <td>Clothing Sets</td>\n",
              "      <td>1</td>\n",
              "    </tr>\n",
              "  </tbody>\n",
              "</table>\n",
              "</div>\n",
              "      <button class=\"colab-df-convert\" onclick=\"convertToInteractive('df-d8bd4f79-1f57-4906-841d-9d23a78ae699')\"\n",
              "              title=\"Convert this dataframe to an interactive table.\"\n",
              "              style=\"display:none;\">\n",
              "        \n",
              "  <svg xmlns=\"http://www.w3.org/2000/svg\" height=\"24px\"viewBox=\"0 0 24 24\"\n",
              "       width=\"24px\">\n",
              "    <path d=\"M0 0h24v24H0V0z\" fill=\"none\"/>\n",
              "    <path d=\"M18.56 5.44l.94 2.06.94-2.06 2.06-.94-2.06-.94-.94-2.06-.94 2.06-2.06.94zm-11 1L8.5 8.5l.94-2.06 2.06-.94-2.06-.94L8.5 2.5l-.94 2.06-2.06.94zm10 10l.94 2.06.94-2.06 2.06-.94-2.06-.94-.94-2.06-.94 2.06-2.06.94z\"/><path d=\"M17.41 7.96l-1.37-1.37c-.4-.4-.92-.59-1.43-.59-.52 0-1.04.2-1.43.59L10.3 9.45l-7.72 7.72c-.78.78-.78 2.05 0 2.83L4 21.41c.39.39.9.59 1.41.59.51 0 1.02-.2 1.41-.59l7.78-7.78 2.81-2.81c.8-.78.8-2.07 0-2.86zM5.41 20L4 18.59l7.72-7.72 1.47 1.35L5.41 20z\"/>\n",
              "  </svg>\n",
              "      </button>\n",
              "      \n",
              "  <style>\n",
              "    .colab-df-container {\n",
              "      display:flex;\n",
              "      flex-wrap:wrap;\n",
              "      gap: 12px;\n",
              "    }\n",
              "\n",
              "    .colab-df-convert {\n",
              "      background-color: #E8F0FE;\n",
              "      border: none;\n",
              "      border-radius: 50%;\n",
              "      cursor: pointer;\n",
              "      display: none;\n",
              "      fill: #1967D2;\n",
              "      height: 32px;\n",
              "      padding: 0 0 0 0;\n",
              "      width: 32px;\n",
              "    }\n",
              "\n",
              "    .colab-df-convert:hover {\n",
              "      background-color: #E2EBFA;\n",
              "      box-shadow: 0px 1px 2px rgba(60, 64, 67, 0.3), 0px 1px 3px 1px rgba(60, 64, 67, 0.15);\n",
              "      fill: #174EA6;\n",
              "    }\n",
              "\n",
              "    [theme=dark] .colab-df-convert {\n",
              "      background-color: #3B4455;\n",
              "      fill: #D2E3FC;\n",
              "    }\n",
              "\n",
              "    [theme=dark] .colab-df-convert:hover {\n",
              "      background-color: #434B5C;\n",
              "      box-shadow: 0px 1px 3px 1px rgba(0, 0, 0, 0.15);\n",
              "      filter: drop-shadow(0px 1px 2px rgba(0, 0, 0, 0.3));\n",
              "      fill: #FFFFFF;\n",
              "    }\n",
              "  </style>\n",
              "\n",
              "      <script>\n",
              "        const buttonEl =\n",
              "          document.querySelector('#df-d8bd4f79-1f57-4906-841d-9d23a78ae699 button.colab-df-convert');\n",
              "        buttonEl.style.display =\n",
              "          google.colab.kernel.accessAllowed ? 'block' : 'none';\n",
              "\n",
              "        async function convertToInteractive(key) {\n",
              "          const element = document.querySelector('#df-d8bd4f79-1f57-4906-841d-9d23a78ae699');\n",
              "          const dataTable =\n",
              "            await google.colab.kernel.invokeFunction('convertToInteractive',\n",
              "                                                     [key], {});\n",
              "          if (!dataTable) return;\n",
              "\n",
              "          const docLinkHtml = 'Like what you see? Visit the ' +\n",
              "            '<a target=\"_blank\" href=https://colab.research.google.com/notebooks/data_table.ipynb>data table notebook</a>'\n",
              "            + ' to learn more about interactive tables.';\n",
              "          element.innerHTML = '';\n",
              "          dataTable['output_type'] = 'display_data';\n",
              "          await google.colab.output.renderOutput(dataTable, element);\n",
              "          const docLink = document.createElement('div');\n",
              "          docLink.innerHTML = docLinkHtml;\n",
              "          element.appendChild(docLink);\n",
              "        }\n",
              "      </script>\n",
              "    </div>\n",
              "  </div>\n",
              "  "
            ]
          },
          "metadata": {},
          "execution_count": 102
        }
      ]
    },
    {
      "cell_type": "code",
      "source": [
        "user_products_cat.index.nunique()"
      ],
      "metadata": {
        "colab": {
          "base_uri": "https://localhost:8080/"
        },
        "id": "HkMxq0z20NCw",
        "outputId": "8ce11376-1d5e-4209-d02b-6f03c8f2aaff"
      },
      "execution_count": 107,
      "outputs": [
        {
          "output_type": "execute_result",
          "data": {
            "text/plain": [
              "66285"
            ]
          },
          "metadata": {},
          "execution_count": 107
        }
      ]
    },
    {
      "cell_type": "code",
      "source": [
        "user_categories = pd.get_dummies(user_products_cat['category'],prefix='cat').groupby('user_id').max()"
      ],
      "metadata": {
        "id": "gfTn9LMSzr4F"
      },
      "execution_count": 221,
      "outputs": []
    },
    {
      "cell_type": "markdown",
      "source": [
        "### User Demo"
      ],
      "metadata": {
        "id": "EuPqP8avv7A8"
      }
    },
    {
      "cell_type": "code",
      "source": [
        "sql = '''\n",
        "SELECT\n",
        "  *\n",
        "FROM\n",
        "  `bigquery-public-data.thelook_ecommerce.users`\n",
        "'''\n",
        "\n",
        "user_demo = pd.io.gbq.read_gbq(sql,project_id=project_id,\n",
        "                                      index_col='id')"
      ],
      "metadata": {
        "id": "pxqq04LyqiHv"
      },
      "execution_count": 110,
      "outputs": []
    },
    {
      "cell_type": "code",
      "source": [
        "user_demo.head()"
      ],
      "metadata": {
        "colab": {
          "base_uri": "https://localhost:8080/",
          "height": 388
        },
        "id": "QsPtcv0bq0D5",
        "outputId": "b56b2db7-49a3-4ace-c6a6-90e1c81b2f14"
      },
      "execution_count": 22,
      "outputs": [
        {
          "output_type": "execute_result",
          "data": {
            "text/plain": [
              "      first_name last_name                        email  age gender state  \\\n",
              "id                                                                          \n",
              "20548    Gilbert  Matthews  gilbertmatthews@example.net   54      M  Acre   \n",
              "22628    Charles      Ford      charlesford@example.org   42      M  Acre   \n",
              "25262      Kathy    Torres      kathytorres@example.com   36      F  Acre   \n",
              "36344     Andrew    Lucero     andrewlucero@example.com   42      M  Acre   \n",
              "36911      Susan     Young       susanyoung@example.com   53      F  Acre   \n",
              "\n",
              "                      street_address postal_code        city country  \\\n",
              "id                                                                     \n",
              "20548                160 Young Ridge   69917-400  Rio Branco  Brasil   \n",
              "22628       626 Clark Point Apt. 167   69917-400  Rio Branco  Brasil   \n",
              "25262  8033 Jeffrey Fields Suite 569   69917-400  Rio Branco  Brasil   \n",
              "36344    89439 Moore Shoals Apt. 333   69917-400  Rio Branco  Brasil   \n",
              "36911    5362 Harris Branch Apt. 127   69917-400  Rio Branco  Brasil   \n",
              "\n",
              "       latitude  longitude traffic_source                created_at  \n",
              "id                                                                   \n",
              "20548 -9.945568  -67.83561         Search 2019-03-09 14:49:00+00:00  \n",
              "22628 -9.945568  -67.83561         Search 2021-09-26 03:14:00+00:00  \n",
              "25262 -9.945568  -67.83561         Search 2019-09-01 14:50:00+00:00  \n",
              "36344 -9.945568  -67.83561         Search 2020-10-07 10:16:00+00:00  \n",
              "36911 -9.945568  -67.83561         Search 2020-09-03 01:26:00+00:00  "
            ],
            "text/html": [
              "\n",
              "  <div id=\"df-3c8a28b6-0e30-43e1-8606-7bdfeb9ed202\">\n",
              "    <div class=\"colab-df-container\">\n",
              "      <div>\n",
              "<style scoped>\n",
              "    .dataframe tbody tr th:only-of-type {\n",
              "        vertical-align: middle;\n",
              "    }\n",
              "\n",
              "    .dataframe tbody tr th {\n",
              "        vertical-align: top;\n",
              "    }\n",
              "\n",
              "    .dataframe thead th {\n",
              "        text-align: right;\n",
              "    }\n",
              "</style>\n",
              "<table border=\"1\" class=\"dataframe\">\n",
              "  <thead>\n",
              "    <tr style=\"text-align: right;\">\n",
              "      <th></th>\n",
              "      <th>first_name</th>\n",
              "      <th>last_name</th>\n",
              "      <th>email</th>\n",
              "      <th>age</th>\n",
              "      <th>gender</th>\n",
              "      <th>state</th>\n",
              "      <th>street_address</th>\n",
              "      <th>postal_code</th>\n",
              "      <th>city</th>\n",
              "      <th>country</th>\n",
              "      <th>latitude</th>\n",
              "      <th>longitude</th>\n",
              "      <th>traffic_source</th>\n",
              "      <th>created_at</th>\n",
              "    </tr>\n",
              "    <tr>\n",
              "      <th>id</th>\n",
              "      <th></th>\n",
              "      <th></th>\n",
              "      <th></th>\n",
              "      <th></th>\n",
              "      <th></th>\n",
              "      <th></th>\n",
              "      <th></th>\n",
              "      <th></th>\n",
              "      <th></th>\n",
              "      <th></th>\n",
              "      <th></th>\n",
              "      <th></th>\n",
              "      <th></th>\n",
              "      <th></th>\n",
              "    </tr>\n",
              "  </thead>\n",
              "  <tbody>\n",
              "    <tr>\n",
              "      <th>20548</th>\n",
              "      <td>Gilbert</td>\n",
              "      <td>Matthews</td>\n",
              "      <td>gilbertmatthews@example.net</td>\n",
              "      <td>54</td>\n",
              "      <td>M</td>\n",
              "      <td>Acre</td>\n",
              "      <td>160 Young Ridge</td>\n",
              "      <td>69917-400</td>\n",
              "      <td>Rio Branco</td>\n",
              "      <td>Brasil</td>\n",
              "      <td>-9.945568</td>\n",
              "      <td>-67.83561</td>\n",
              "      <td>Search</td>\n",
              "      <td>2019-03-09 14:49:00+00:00</td>\n",
              "    </tr>\n",
              "    <tr>\n",
              "      <th>22628</th>\n",
              "      <td>Charles</td>\n",
              "      <td>Ford</td>\n",
              "      <td>charlesford@example.org</td>\n",
              "      <td>42</td>\n",
              "      <td>M</td>\n",
              "      <td>Acre</td>\n",
              "      <td>626 Clark Point Apt. 167</td>\n",
              "      <td>69917-400</td>\n",
              "      <td>Rio Branco</td>\n",
              "      <td>Brasil</td>\n",
              "      <td>-9.945568</td>\n",
              "      <td>-67.83561</td>\n",
              "      <td>Search</td>\n",
              "      <td>2021-09-26 03:14:00+00:00</td>\n",
              "    </tr>\n",
              "    <tr>\n",
              "      <th>25262</th>\n",
              "      <td>Kathy</td>\n",
              "      <td>Torres</td>\n",
              "      <td>kathytorres@example.com</td>\n",
              "      <td>36</td>\n",
              "      <td>F</td>\n",
              "      <td>Acre</td>\n",
              "      <td>8033 Jeffrey Fields Suite 569</td>\n",
              "      <td>69917-400</td>\n",
              "      <td>Rio Branco</td>\n",
              "      <td>Brasil</td>\n",
              "      <td>-9.945568</td>\n",
              "      <td>-67.83561</td>\n",
              "      <td>Search</td>\n",
              "      <td>2019-09-01 14:50:00+00:00</td>\n",
              "    </tr>\n",
              "    <tr>\n",
              "      <th>36344</th>\n",
              "      <td>Andrew</td>\n",
              "      <td>Lucero</td>\n",
              "      <td>andrewlucero@example.com</td>\n",
              "      <td>42</td>\n",
              "      <td>M</td>\n",
              "      <td>Acre</td>\n",
              "      <td>89439 Moore Shoals Apt. 333</td>\n",
              "      <td>69917-400</td>\n",
              "      <td>Rio Branco</td>\n",
              "      <td>Brasil</td>\n",
              "      <td>-9.945568</td>\n",
              "      <td>-67.83561</td>\n",
              "      <td>Search</td>\n",
              "      <td>2020-10-07 10:16:00+00:00</td>\n",
              "    </tr>\n",
              "    <tr>\n",
              "      <th>36911</th>\n",
              "      <td>Susan</td>\n",
              "      <td>Young</td>\n",
              "      <td>susanyoung@example.com</td>\n",
              "      <td>53</td>\n",
              "      <td>F</td>\n",
              "      <td>Acre</td>\n",
              "      <td>5362 Harris Branch Apt. 127</td>\n",
              "      <td>69917-400</td>\n",
              "      <td>Rio Branco</td>\n",
              "      <td>Brasil</td>\n",
              "      <td>-9.945568</td>\n",
              "      <td>-67.83561</td>\n",
              "      <td>Search</td>\n",
              "      <td>2020-09-03 01:26:00+00:00</td>\n",
              "    </tr>\n",
              "  </tbody>\n",
              "</table>\n",
              "</div>\n",
              "      <button class=\"colab-df-convert\" onclick=\"convertToInteractive('df-3c8a28b6-0e30-43e1-8606-7bdfeb9ed202')\"\n",
              "              title=\"Convert this dataframe to an interactive table.\"\n",
              "              style=\"display:none;\">\n",
              "        \n",
              "  <svg xmlns=\"http://www.w3.org/2000/svg\" height=\"24px\"viewBox=\"0 0 24 24\"\n",
              "       width=\"24px\">\n",
              "    <path d=\"M0 0h24v24H0V0z\" fill=\"none\"/>\n",
              "    <path d=\"M18.56 5.44l.94 2.06.94-2.06 2.06-.94-2.06-.94-.94-2.06-.94 2.06-2.06.94zm-11 1L8.5 8.5l.94-2.06 2.06-.94-2.06-.94L8.5 2.5l-.94 2.06-2.06.94zm10 10l.94 2.06.94-2.06 2.06-.94-2.06-.94-.94-2.06-.94 2.06-2.06.94z\"/><path d=\"M17.41 7.96l-1.37-1.37c-.4-.4-.92-.59-1.43-.59-.52 0-1.04.2-1.43.59L10.3 9.45l-7.72 7.72c-.78.78-.78 2.05 0 2.83L4 21.41c.39.39.9.59 1.41.59.51 0 1.02-.2 1.41-.59l7.78-7.78 2.81-2.81c.8-.78.8-2.07 0-2.86zM5.41 20L4 18.59l7.72-7.72 1.47 1.35L5.41 20z\"/>\n",
              "  </svg>\n",
              "      </button>\n",
              "      \n",
              "  <style>\n",
              "    .colab-df-container {\n",
              "      display:flex;\n",
              "      flex-wrap:wrap;\n",
              "      gap: 12px;\n",
              "    }\n",
              "\n",
              "    .colab-df-convert {\n",
              "      background-color: #E8F0FE;\n",
              "      border: none;\n",
              "      border-radius: 50%;\n",
              "      cursor: pointer;\n",
              "      display: none;\n",
              "      fill: #1967D2;\n",
              "      height: 32px;\n",
              "      padding: 0 0 0 0;\n",
              "      width: 32px;\n",
              "    }\n",
              "\n",
              "    .colab-df-convert:hover {\n",
              "      background-color: #E2EBFA;\n",
              "      box-shadow: 0px 1px 2px rgba(60, 64, 67, 0.3), 0px 1px 3px 1px rgba(60, 64, 67, 0.15);\n",
              "      fill: #174EA6;\n",
              "    }\n",
              "\n",
              "    [theme=dark] .colab-df-convert {\n",
              "      background-color: #3B4455;\n",
              "      fill: #D2E3FC;\n",
              "    }\n",
              "\n",
              "    [theme=dark] .colab-df-convert:hover {\n",
              "      background-color: #434B5C;\n",
              "      box-shadow: 0px 1px 3px 1px rgba(0, 0, 0, 0.15);\n",
              "      filter: drop-shadow(0px 1px 2px rgba(0, 0, 0, 0.3));\n",
              "      fill: #FFFFFF;\n",
              "    }\n",
              "  </style>\n",
              "\n",
              "      <script>\n",
              "        const buttonEl =\n",
              "          document.querySelector('#df-3c8a28b6-0e30-43e1-8606-7bdfeb9ed202 button.colab-df-convert');\n",
              "        buttonEl.style.display =\n",
              "          google.colab.kernel.accessAllowed ? 'block' : 'none';\n",
              "\n",
              "        async function convertToInteractive(key) {\n",
              "          const element = document.querySelector('#df-3c8a28b6-0e30-43e1-8606-7bdfeb9ed202');\n",
              "          const dataTable =\n",
              "            await google.colab.kernel.invokeFunction('convertToInteractive',\n",
              "                                                     [key], {});\n",
              "          if (!dataTable) return;\n",
              "\n",
              "          const docLinkHtml = 'Like what you see? Visit the ' +\n",
              "            '<a target=\"_blank\" href=https://colab.research.google.com/notebooks/data_table.ipynb>data table notebook</a>'\n",
              "            + ' to learn more about interactive tables.';\n",
              "          element.innerHTML = '';\n",
              "          dataTable['output_type'] = 'display_data';\n",
              "          await google.colab.output.renderOutput(dataTable, element);\n",
              "          const docLink = document.createElement('div');\n",
              "          docLink.innerHTML = docLinkHtml;\n",
              "          element.appendChild(docLink);\n",
              "        }\n",
              "      </script>\n",
              "    </div>\n",
              "  </div>\n",
              "  "
            ]
          },
          "metadata": {},
          "execution_count": 22
        }
      ]
    },
    {
      "cell_type": "code",
      "source": [
        "user_country = pd.get_dummies(user_demo['country'],prefix='country')"
      ],
      "metadata": {
        "id": "SbQZurENtL5c"
      },
      "execution_count": 222,
      "outputs": []
    },
    {
      "cell_type": "code",
      "source": [
        "user_gender = pd.get_dummies(user_demo['gender'],prefix='sex')"
      ],
      "metadata": {
        "id": "7NiJHYQUtWjw"
      },
      "execution_count": 223,
      "outputs": []
    },
    {
      "cell_type": "code",
      "source": [
        "user_age = pd.get_dummies(pd.qcut(user_demo['age'], q = 5, labels = range(5)),prefix='age')"
      ],
      "metadata": {
        "id": "0JkBi_2ntlUo"
      },
      "execution_count": 224,
      "outputs": []
    },
    {
      "cell_type": "code",
      "source": [
        "user_traffic = pd.get_dummies(user_demo['traffic_source'],prefix='traffic')"
      ],
      "metadata": {
        "id": "f6JS7LYbuPI2"
      },
      "execution_count": 225,
      "outputs": []
    },
    {
      "cell_type": "markdown",
      "source": [
        "### Web Traffic"
      ],
      "metadata": {
        "id": "Gc893wa0v2oO"
      }
    },
    {
      "cell_type": "code",
      "source": [
        "sql = '''\n",
        "SELECT\n",
        "  user_id,\n",
        "  SUM(CASE WHEN event_type = 'purchase' THEN 1 ELSE 0 END) num_purchase,\n",
        "  SUM(CASE WHEN event_type = 'cart' THEN 1 ELSE 0 END) num_cart,\n",
        "  SUM(CASE WHEN event_type = 'product' THEN 1 ELSE 0 END) num_product,\n",
        "  COUNT(*) all_events\n",
        "FROM\n",
        "  `bigquery-public-data.thelook_ecommerce.events`\n",
        "WHERE\n",
        "  user_id IS NOT NULL\n",
        "GROUP BY\n",
        "  1\n",
        "'''\n",
        "\n",
        "user_web = pd.io.gbq.read_gbq(sql,project_id=project_id,\n",
        "                                      index_col='user_id')"
      ],
      "metadata": {
        "id": "CrMt015svOd9"
      },
      "execution_count": 114,
      "outputs": []
    },
    {
      "cell_type": "code",
      "source": [
        "user_web.head()"
      ],
      "metadata": {
        "colab": {
          "base_uri": "https://localhost:8080/",
          "height": 237
        },
        "id": "FI_yVdHjvf7H",
        "outputId": "4a63e939-78d0-4edc-8f88-d6af028ef0d8"
      },
      "execution_count": 115,
      "outputs": [
        {
          "output_type": "execute_result",
          "data": {
            "text/plain": [
              "         num_purchase  num_cart  num_product  all_events\n",
              "user_id                                                 \n",
              "3101                6        20           20          66\n",
              "96289               6        20           20          66\n",
              "56737               9        25           25          85\n",
              "23841               8        22           22          76\n",
              "83651               6        12           12          45"
            ],
            "text/html": [
              "\n",
              "  <div id=\"df-c3448e00-8452-40c2-8ef1-7ae74c429574\">\n",
              "    <div class=\"colab-df-container\">\n",
              "      <div>\n",
              "<style scoped>\n",
              "    .dataframe tbody tr th:only-of-type {\n",
              "        vertical-align: middle;\n",
              "    }\n",
              "\n",
              "    .dataframe tbody tr th {\n",
              "        vertical-align: top;\n",
              "    }\n",
              "\n",
              "    .dataframe thead th {\n",
              "        text-align: right;\n",
              "    }\n",
              "</style>\n",
              "<table border=\"1\" class=\"dataframe\">\n",
              "  <thead>\n",
              "    <tr style=\"text-align: right;\">\n",
              "      <th></th>\n",
              "      <th>num_purchase</th>\n",
              "      <th>num_cart</th>\n",
              "      <th>num_product</th>\n",
              "      <th>all_events</th>\n",
              "    </tr>\n",
              "    <tr>\n",
              "      <th>user_id</th>\n",
              "      <th></th>\n",
              "      <th></th>\n",
              "      <th></th>\n",
              "      <th></th>\n",
              "    </tr>\n",
              "  </thead>\n",
              "  <tbody>\n",
              "    <tr>\n",
              "      <th>3101</th>\n",
              "      <td>6</td>\n",
              "      <td>20</td>\n",
              "      <td>20</td>\n",
              "      <td>66</td>\n",
              "    </tr>\n",
              "    <tr>\n",
              "      <th>96289</th>\n",
              "      <td>6</td>\n",
              "      <td>20</td>\n",
              "      <td>20</td>\n",
              "      <td>66</td>\n",
              "    </tr>\n",
              "    <tr>\n",
              "      <th>56737</th>\n",
              "      <td>9</td>\n",
              "      <td>25</td>\n",
              "      <td>25</td>\n",
              "      <td>85</td>\n",
              "    </tr>\n",
              "    <tr>\n",
              "      <th>23841</th>\n",
              "      <td>8</td>\n",
              "      <td>22</td>\n",
              "      <td>22</td>\n",
              "      <td>76</td>\n",
              "    </tr>\n",
              "    <tr>\n",
              "      <th>83651</th>\n",
              "      <td>6</td>\n",
              "      <td>12</td>\n",
              "      <td>12</td>\n",
              "      <td>45</td>\n",
              "    </tr>\n",
              "  </tbody>\n",
              "</table>\n",
              "</div>\n",
              "      <button class=\"colab-df-convert\" onclick=\"convertToInteractive('df-c3448e00-8452-40c2-8ef1-7ae74c429574')\"\n",
              "              title=\"Convert this dataframe to an interactive table.\"\n",
              "              style=\"display:none;\">\n",
              "        \n",
              "  <svg xmlns=\"http://www.w3.org/2000/svg\" height=\"24px\"viewBox=\"0 0 24 24\"\n",
              "       width=\"24px\">\n",
              "    <path d=\"M0 0h24v24H0V0z\" fill=\"none\"/>\n",
              "    <path d=\"M18.56 5.44l.94 2.06.94-2.06 2.06-.94-2.06-.94-.94-2.06-.94 2.06-2.06.94zm-11 1L8.5 8.5l.94-2.06 2.06-.94-2.06-.94L8.5 2.5l-.94 2.06-2.06.94zm10 10l.94 2.06.94-2.06 2.06-.94-2.06-.94-.94-2.06-.94 2.06-2.06.94z\"/><path d=\"M17.41 7.96l-1.37-1.37c-.4-.4-.92-.59-1.43-.59-.52 0-1.04.2-1.43.59L10.3 9.45l-7.72 7.72c-.78.78-.78 2.05 0 2.83L4 21.41c.39.39.9.59 1.41.59.51 0 1.02-.2 1.41-.59l7.78-7.78 2.81-2.81c.8-.78.8-2.07 0-2.86zM5.41 20L4 18.59l7.72-7.72 1.47 1.35L5.41 20z\"/>\n",
              "  </svg>\n",
              "      </button>\n",
              "      \n",
              "  <style>\n",
              "    .colab-df-container {\n",
              "      display:flex;\n",
              "      flex-wrap:wrap;\n",
              "      gap: 12px;\n",
              "    }\n",
              "\n",
              "    .colab-df-convert {\n",
              "      background-color: #E8F0FE;\n",
              "      border: none;\n",
              "      border-radius: 50%;\n",
              "      cursor: pointer;\n",
              "      display: none;\n",
              "      fill: #1967D2;\n",
              "      height: 32px;\n",
              "      padding: 0 0 0 0;\n",
              "      width: 32px;\n",
              "    }\n",
              "\n",
              "    .colab-df-convert:hover {\n",
              "      background-color: #E2EBFA;\n",
              "      box-shadow: 0px 1px 2px rgba(60, 64, 67, 0.3), 0px 1px 3px 1px rgba(60, 64, 67, 0.15);\n",
              "      fill: #174EA6;\n",
              "    }\n",
              "\n",
              "    [theme=dark] .colab-df-convert {\n",
              "      background-color: #3B4455;\n",
              "      fill: #D2E3FC;\n",
              "    }\n",
              "\n",
              "    [theme=dark] .colab-df-convert:hover {\n",
              "      background-color: #434B5C;\n",
              "      box-shadow: 0px 1px 3px 1px rgba(0, 0, 0, 0.15);\n",
              "      filter: drop-shadow(0px 1px 2px rgba(0, 0, 0, 0.3));\n",
              "      fill: #FFFFFF;\n",
              "    }\n",
              "  </style>\n",
              "\n",
              "      <script>\n",
              "        const buttonEl =\n",
              "          document.querySelector('#df-c3448e00-8452-40c2-8ef1-7ae74c429574 button.colab-df-convert');\n",
              "        buttonEl.style.display =\n",
              "          google.colab.kernel.accessAllowed ? 'block' : 'none';\n",
              "\n",
              "        async function convertToInteractive(key) {\n",
              "          const element = document.querySelector('#df-c3448e00-8452-40c2-8ef1-7ae74c429574');\n",
              "          const dataTable =\n",
              "            await google.colab.kernel.invokeFunction('convertToInteractive',\n",
              "                                                     [key], {});\n",
              "          if (!dataTable) return;\n",
              "\n",
              "          const docLinkHtml = 'Like what you see? Visit the ' +\n",
              "            '<a target=\"_blank\" href=https://colab.research.google.com/notebooks/data_table.ipynb>data table notebook</a>'\n",
              "            + ' to learn more about interactive tables.';\n",
              "          element.innerHTML = '';\n",
              "          dataTable['output_type'] = 'display_data';\n",
              "          await google.colab.output.renderOutput(dataTable, element);\n",
              "          const docLink = document.createElement('div');\n",
              "          docLink.innerHTML = docLinkHtml;\n",
              "          element.appendChild(docLink);\n",
              "        }\n",
              "      </script>\n",
              "    </div>\n",
              "  </div>\n",
              "  "
            ]
          },
          "metadata": {},
          "execution_count": 115
        }
      ]
    },
    {
      "cell_type": "code",
      "source": [
        "user_web['event_per_purchase'] = round(user_web['all_events']/user_web['num_purchase'])\n",
        "user_web['event_per_purchase'].value_counts().sort_index()"
      ],
      "metadata": {
        "colab": {
          "base_uri": "https://localhost:8080/"
        },
        "id": "uN86XbMqwNhk",
        "outputId": "dc1d1e1f-6192-46ae-cb0f-4a8212d161f6"
      },
      "execution_count": 116,
      "outputs": [
        {
          "output_type": "execute_result",
          "data": {
            "text/plain": [
              "5.0     48033\n",
              "6.0      9028\n",
              "7.0     11483\n",
              "8.0      1311\n",
              "9.0      1971\n",
              "10.0     3904\n",
              "11.0     1942\n",
              "12.0      143\n",
              "13.0     2533\n",
              "Name: event_per_purchase, dtype: Int64"
            ]
          },
          "metadata": {},
          "execution_count": 116
        }
      ]
    },
    {
      "cell_type": "code",
      "source": [
        "user_events_per_purchase = pd.get_dummies(pd.qcut(user_web['event_per_purchase'],q=4,labels=range(2),duplicates='drop'),prefix='events_per_purchase')"
      ],
      "metadata": {
        "id": "6PF9ozTjxIrf"
      },
      "execution_count": 117,
      "outputs": []
    },
    {
      "cell_type": "code",
      "source": [
        "user_web['avg_cart_size'] = round(user_web['num_cart']/user_web['num_purchase'])\n",
        "user_web['avg_cart_size'].value_counts()"
      ],
      "metadata": {
        "colab": {
          "base_uri": "https://localhost:8080/"
        },
        "id": "M1_-tuVDwo6s",
        "outputId": "d8ffb251-f65a-4202-93a2-d6a643c1fda6"
      },
      "execution_count": 118,
      "outputs": [
        {
          "output_type": "execute_result",
          "data": {
            "text/plain": [
              "1.0    49383\n",
              "2.0    21912\n",
              "3.0     6377\n",
              "4.0     2676\n",
              "Name: avg_cart_size, dtype: Int64"
            ]
          },
          "metadata": {},
          "execution_count": 118
        }
      ]
    },
    {
      "cell_type": "code",
      "source": [
        "user_avg_cart_size = pd.get_dummies((user_web['avg_cart_size']),prefix = 'avg_cart_size')"
      ],
      "metadata": {
        "id": "vCwgpdiwyJ2X"
      },
      "execution_count": 119,
      "outputs": []
    },
    {
      "cell_type": "markdown",
      "source": [
        "## 2.Combine Data"
      ],
      "metadata": {
        "id": "HAE0e-_SJGy3"
      }
    },
    {
      "cell_type": "code",
      "source": [
        "dfs = [user_orders,\n",
        "       user_categories,\n",
        "       user_country,\n",
        "       user_gender,\n",
        "       user_age,\n",
        "       user_traffic,\n",
        "       user_events_per_purchase,\n",
        "       user_avg_cart_size]\n",
        "for df in dfs:\n",
        "  print(df.shape)"
      ],
      "metadata": {
        "colab": {
          "base_uri": "https://localhost:8080/"
        },
        "id": "glvGpqPtJJ8o",
        "outputId": "b630c800-4933-42a2-d684-1b7b4387be19"
      },
      "execution_count": 133,
      "outputs": [
        {
          "output_type": "stream",
          "name": "stdout",
          "text": [
            "(66285, 4)\n",
            "(66285, 26)\n",
            "(100000, 16)\n",
            "(100000, 2)\n",
            "(100000, 5)\n",
            "(100000, 5)\n",
            "(80348, 2)\n",
            "(80348, 4)\n"
          ]
        }
      ]
    },
    {
      "cell_type": "code",
      "source": [
        "user_all = user_country.join(user_categories,how='left').\\\n",
        "join(user_orders,how='left').\\\n",
        "join(user_gender).join(user_age).join(user_traffic).\\\n",
        "join(user_events_per_purchase,how='left').\\\n",
        "join(user_avg_cart_size,how='left')"
      ],
      "metadata": {
        "id": "1k-6-9jdJ2cE"
      },
      "execution_count": 226,
      "outputs": []
    },
    {
      "cell_type": "code",
      "source": [
        "user_all.shape"
      ],
      "metadata": {
        "colab": {
          "base_uri": "https://localhost:8080/"
        },
        "id": "qLhxIT55JPCX",
        "outputId": "5378fd23-deea-4067-95d0-9d7cb935a0d7"
      },
      "execution_count": 173,
      "outputs": [
        {
          "output_type": "execute_result",
          "data": {
            "text/plain": [
              "(100000, 64)"
            ]
          },
          "metadata": {},
          "execution_count": 173
        }
      ]
    },
    {
      "cell_type": "code",
      "source": [
        "user_all.mean()"
      ],
      "metadata": {
        "colab": {
          "base_uri": "https://localhost:8080/"
        },
        "id": "UqQXF9YRMBYP",
        "outputId": "36290ba9-d415-4191-a336-839f326ab9a9"
      },
      "execution_count": 227,
      "outputs": [
        {
          "output_type": "execute_result",
          "data": {
            "text/plain": [
              "country_Australia        0.021320\n",
              "country_Austria          0.000010\n",
              "country_Belgium          0.012680\n",
              "country_Brasil           0.144910\n",
              "country_China            0.339050\n",
              "                           ...   \n",
              "events_per_purchase_1    0.146911\n",
              "avg_cart_size_1.0        0.614614\n",
              "avg_cart_size_2.0        0.272714\n",
              "avg_cart_size_3.0        0.079367\n",
              "avg_cart_size_4.0        0.033305\n",
              "Length: 63, dtype: float64"
            ]
          },
          "metadata": {},
          "execution_count": 227
        }
      ]
    },
    {
      "cell_type": "code",
      "source": [
        "user_all.dropna(inplace=True)"
      ],
      "metadata": {
        "id": "Q_p5FkhONnRr"
      },
      "execution_count": 228,
      "outputs": []
    },
    {
      "cell_type": "code",
      "source": [
        "user_all.shape"
      ],
      "metadata": {
        "colab": {
          "base_uri": "https://localhost:8080/"
        },
        "id": "eJFq03-eOdAK",
        "outputId": "d9929009-656a-420d-ea41-84ec799ef3a1"
      },
      "execution_count": 229,
      "outputs": [
        {
          "output_type": "execute_result",
          "data": {
            "text/plain": [
              "(66285, 63)"
            ]
          },
          "metadata": {},
          "execution_count": 229
        }
      ]
    },
    {
      "cell_type": "markdown",
      "source": [
        "## 3.Determine Optimal Number of Clusters"
      ],
      "metadata": {
        "id": "JTHVex_jPfAK"
      }
    },
    {
      "cell_type": "code",
      "source": [
        "\n",
        "from sklearn.cluster import KMeans\n",
        "import matplotlib.pyplot as plt\n",
        "\n",
        "sse = {}\n",
        "for k in range(1, 10):\n",
        "    kmeans = KMeans(n_clusters=k, max_iter=1000).fit(user_all)\n",
        "    #user_all[\"clusters\"] = kmeans.labels_\n",
        "    #print(data[\"clusters\"])\n",
        "    sse[k] = kmeans.inertia_ # Inertia: Sum of distances of samples to their closest cluster center\n",
        "plt.figure()\n",
        "plt.plot(list(sse.keys()), list(sse.values()))\n",
        "plt.xlabel(\"Number of cluster\")\n",
        "plt.ylabel(\"SSE\")\n",
        "plt.show()"
      ],
      "metadata": {
        "colab": {
          "base_uri": "https://localhost:8080/",
          "height": 611
        },
        "id": "8fl-X8dWPGeD",
        "outputId": "5727fed1-0960-4f7f-b3c5-ab0fc5d91a08"
      },
      "execution_count": 230,
      "outputs": [
        {
          "output_type": "stream",
          "name": "stderr",
          "text": [
            "/usr/local/lib/python3.9/dist-packages/sklearn/cluster/_kmeans.py:870: FutureWarning: The default value of `n_init` will change from 10 to 'auto' in 1.4. Set the value of `n_init` explicitly to suppress the warning\n",
            "  warnings.warn(\n",
            "/usr/local/lib/python3.9/dist-packages/sklearn/cluster/_kmeans.py:870: FutureWarning: The default value of `n_init` will change from 10 to 'auto' in 1.4. Set the value of `n_init` explicitly to suppress the warning\n",
            "  warnings.warn(\n",
            "/usr/local/lib/python3.9/dist-packages/sklearn/cluster/_kmeans.py:870: FutureWarning: The default value of `n_init` will change from 10 to 'auto' in 1.4. Set the value of `n_init` explicitly to suppress the warning\n",
            "  warnings.warn(\n",
            "/usr/local/lib/python3.9/dist-packages/sklearn/cluster/_kmeans.py:870: FutureWarning: The default value of `n_init` will change from 10 to 'auto' in 1.4. Set the value of `n_init` explicitly to suppress the warning\n",
            "  warnings.warn(\n",
            "/usr/local/lib/python3.9/dist-packages/sklearn/cluster/_kmeans.py:870: FutureWarning: The default value of `n_init` will change from 10 to 'auto' in 1.4. Set the value of `n_init` explicitly to suppress the warning\n",
            "  warnings.warn(\n",
            "/usr/local/lib/python3.9/dist-packages/sklearn/cluster/_kmeans.py:870: FutureWarning: The default value of `n_init` will change from 10 to 'auto' in 1.4. Set the value of `n_init` explicitly to suppress the warning\n",
            "  warnings.warn(\n",
            "/usr/local/lib/python3.9/dist-packages/sklearn/cluster/_kmeans.py:870: FutureWarning: The default value of `n_init` will change from 10 to 'auto' in 1.4. Set the value of `n_init` explicitly to suppress the warning\n",
            "  warnings.warn(\n",
            "/usr/local/lib/python3.9/dist-packages/sklearn/cluster/_kmeans.py:870: FutureWarning: The default value of `n_init` will change from 10 to 'auto' in 1.4. Set the value of `n_init` explicitly to suppress the warning\n",
            "  warnings.warn(\n",
            "/usr/local/lib/python3.9/dist-packages/sklearn/cluster/_kmeans.py:870: FutureWarning: The default value of `n_init` will change from 10 to 'auto' in 1.4. Set the value of `n_init` explicitly to suppress the warning\n",
            "  warnings.warn(\n"
          ]
        },
        {
          "output_type": "display_data",
          "data": {
            "text/plain": [
              "<Figure size 432x288 with 1 Axes>"
            ],
            "image/png": "[encoded data removed]"
          },
          "metadata": {
            "needs_background": "light"
          }
        }
      ]
    },
    {
      "cell_type": "code",
      "source": [
        "kmeans = KMeans(n_clusters=4, max_iter=1000).fit(user_all)\n",
        "user_all[\"clusters\"] = kmeans.labels_"
      ],
      "metadata": {
        "colab": {
          "base_uri": "https://localhost:8080/"
        },
        "id": "svXeaI_7Pt2o",
        "outputId": "1c1ad257-bc71-480b-a045-3d233c489c8e"
      },
      "execution_count": 231,
      "outputs": [
        {
          "output_type": "stream",
          "name": "stderr",
          "text": [
            "/usr/local/lib/python3.9/dist-packages/sklearn/cluster/_kmeans.py:870: FutureWarning: The default value of `n_init` will change from 10 to 'auto' in 1.4. Set the value of `n_init` explicitly to suppress the warning\n",
            "  warnings.warn(\n"
          ]
        }
      ]
    },
    {
      "cell_type": "markdown",
      "source": [
        "## 4.Examine Cluster Charactaristics"
      ],
      "metadata": {
        "id": "MOmTyXsSiAZJ"
      }
    },
    {
      "cell_type": "code",
      "source": [
        "cluster_means = user_all.groupby('clusters').mean()"
      ],
      "metadata": {
        "id": "oP8mcevnQRSq"
      },
      "execution_count": 232,
      "outputs": []
    },
    {
      "cell_type": "code",
      "source": [
        "cluster_means"
      ],
      "metadata": {
        "colab": {
          "base_uri": "https://localhost:8080/",
          "height": 299
        },
        "id": "0RQVQu0tQ6fO",
        "outputId": "defb6bcf-15be-4b62-fe47-a3fbde7f1810"
      },
      "execution_count": 197,
      "outputs": [
        {
          "output_type": "execute_result",
          "data": {
            "text/plain": [
              "          Australia   Austria   Belgium    Brasil     China  Colombia  \\\n",
              "clusters                                                                \n",
              "0          0.022802  0.000000  0.012109  0.143183  0.338968  0.000236   \n",
              "1          0.021013  0.000139  0.012877  0.142950  0.341453  0.000046   \n",
              "2          0.022880  0.000000  0.012221  0.143802  0.337729  0.000092   \n",
              "3          0.021574  0.000000  0.012536  0.146550  0.342468  0.000097   \n",
              "\n",
              "          Deutschland    España    France   Germany  ...     Email  Facebook  \\\n",
              "clusters                                             ...                       \n",
              "0            0.000000  0.000000  0.047964  0.040337  ...  0.050794  0.059601   \n",
              "1            0.000046  0.000046  0.049742  0.041281  ...  0.052531  0.059783   \n",
              "2            0.000046  0.000046  0.049481  0.044197  ...  0.051962  0.061242   \n",
              "3            0.000000  0.000097  0.045967  0.042177  ...  0.045092  0.062585   \n",
              "\n",
              "           Organic    Search  events_per_purchase_0  events_per_purchase_1  \\\n",
              "clusters                                                                     \n",
              "0         0.147586  0.701211                    1.0                    0.0   \n",
              "1         0.148622  0.698340                    1.0                    0.0   \n",
              "2         0.151107  0.699210                    1.0                    0.0   \n",
              "3         0.150729  0.701555                    0.0                    1.0   \n",
              "\n",
              "          avg_cart_size_1.0  avg_cart_size_2.0  avg_cart_size_3.0  \\\n",
              "clusters                                                            \n",
              "0                  0.535226           0.464774           0.000000   \n",
              "1                  0.758449           0.241551           0.000000   \n",
              "2                  0.765046           0.234954           0.000000   \n",
              "3                  0.000000           0.258115           0.543926   \n",
              "\n",
              "          avg_cart_size_4.0  \n",
              "clusters                     \n",
              "0                  0.000000  \n",
              "1                  0.000000  \n",
              "2                  0.000000  \n",
              "3                  0.197959  \n",
              "\n",
              "[4 rows x 64 columns]"
            ],
            "text/html": [
              "\n",
              "  <div id=\"df-ef3af93c-5c03-4284-b4c8-a2571064f07e\">\n",
              "    <div class=\"colab-df-container\">\n",
              "      <div>\n",
              "<style scoped>\n",
              "    .dataframe tbody tr th:only-of-type {\n",
              "        vertical-align: middle;\n",
              "    }\n",
              "\n",
              "    .dataframe tbody tr th {\n",
              "        vertical-align: top;\n",
              "    }\n",
              "\n",
              "    .dataframe thead th {\n",
              "        text-align: right;\n",
              "    }\n",
              "</style>\n",
              "<table border=\"1\" class=\"dataframe\">\n",
              "  <thead>\n",
              "    <tr style=\"text-align: right;\">\n",
              "      <th></th>\n",
              "      <th>Australia</th>\n",
              "      <th>Austria</th>\n",
              "      <th>Belgium</th>\n",
              "      <th>Brasil</th>\n",
              "      <th>China</th>\n",
              "      <th>Colombia</th>\n",
              "      <th>Deutschland</th>\n",
              "      <th>España</th>\n",
              "      <th>France</th>\n",
              "      <th>Germany</th>\n",
              "      <th>...</th>\n",
              "      <th>Email</th>\n",
              "      <th>Facebook</th>\n",
              "      <th>Organic</th>\n",
              "      <th>Search</th>\n",
              "      <th>events_per_purchase_0</th>\n",
              "      <th>events_per_purchase_1</th>\n",
              "      <th>avg_cart_size_1.0</th>\n",
              "      <th>avg_cart_size_2.0</th>\n",
              "      <th>avg_cart_size_3.0</th>\n",
              "      <th>avg_cart_size_4.0</th>\n",
              "    </tr>\n",
              "    <tr>\n",
              "      <th>clusters</th>\n",
              "      <th></th>\n",
              "      <th></th>\n",
              "      <th></th>\n",
              "      <th></th>\n",
              "      <th></th>\n",
              "      <th></th>\n",
              "      <th></th>\n",
              "      <th></th>\n",
              "      <th></th>\n",
              "      <th></th>\n",
              "      <th></th>\n",
              "      <th></th>\n",
              "      <th></th>\n",
              "      <th></th>\n",
              "      <th></th>\n",
              "      <th></th>\n",
              "      <th></th>\n",
              "      <th></th>\n",
              "      <th></th>\n",
              "      <th></th>\n",
              "      <th></th>\n",
              "    </tr>\n",
              "  </thead>\n",
              "  <tbody>\n",
              "    <tr>\n",
              "      <th>0</th>\n",
              "      <td>0.022802</td>\n",
              "      <td>0.000000</td>\n",
              "      <td>0.012109</td>\n",
              "      <td>0.143183</td>\n",
              "      <td>0.338968</td>\n",
              "      <td>0.000236</td>\n",
              "      <td>0.000000</td>\n",
              "      <td>0.000000</td>\n",
              "      <td>0.047964</td>\n",
              "      <td>0.040337</td>\n",
              "      <td>...</td>\n",
              "      <td>0.050794</td>\n",
              "      <td>0.059601</td>\n",
              "      <td>0.147586</td>\n",
              "      <td>0.701211</td>\n",
              "      <td>1.0</td>\n",
              "      <td>0.0</td>\n",
              "      <td>0.535226</td>\n",
              "      <td>0.464774</td>\n",
              "      <td>0.000000</td>\n",
              "      <td>0.000000</td>\n",
              "    </tr>\n",
              "    <tr>\n",
              "      <th>1</th>\n",
              "      <td>0.021013</td>\n",
              "      <td>0.000139</td>\n",
              "      <td>0.012877</td>\n",
              "      <td>0.142950</td>\n",
              "      <td>0.341453</td>\n",
              "      <td>0.000046</td>\n",
              "      <td>0.000046</td>\n",
              "      <td>0.000046</td>\n",
              "      <td>0.049742</td>\n",
              "      <td>0.041281</td>\n",
              "      <td>...</td>\n",
              "      <td>0.052531</td>\n",
              "      <td>0.059783</td>\n",
              "      <td>0.148622</td>\n",
              "      <td>0.698340</td>\n",
              "      <td>1.0</td>\n",
              "      <td>0.0</td>\n",
              "      <td>0.758449</td>\n",
              "      <td>0.241551</td>\n",
              "      <td>0.000000</td>\n",
              "      <td>0.000000</td>\n",
              "    </tr>\n",
              "    <tr>\n",
              "      <th>2</th>\n",
              "      <td>0.022880</td>\n",
              "      <td>0.000000</td>\n",
              "      <td>0.012221</td>\n",
              "      <td>0.143802</td>\n",
              "      <td>0.337729</td>\n",
              "      <td>0.000092</td>\n",
              "      <td>0.000046</td>\n",
              "      <td>0.000046</td>\n",
              "      <td>0.049481</td>\n",
              "      <td>0.044197</td>\n",
              "      <td>...</td>\n",
              "      <td>0.051962</td>\n",
              "      <td>0.061242</td>\n",
              "      <td>0.151107</td>\n",
              "      <td>0.699210</td>\n",
              "      <td>1.0</td>\n",
              "      <td>0.0</td>\n",
              "      <td>0.765046</td>\n",
              "      <td>0.234954</td>\n",
              "      <td>0.000000</td>\n",
              "      <td>0.000000</td>\n",
              "    </tr>\n",
              "    <tr>\n",
              "      <th>3</th>\n",
              "      <td>0.021574</td>\n",
              "      <td>0.000000</td>\n",
              "      <td>0.012536</td>\n",
              "      <td>0.146550</td>\n",
              "      <td>0.342468</td>\n",
              "      <td>0.000097</td>\n",
              "      <td>0.000000</td>\n",
              "      <td>0.000097</td>\n",
              "      <td>0.045967</td>\n",
              "      <td>0.042177</td>\n",
              "      <td>...</td>\n",
              "      <td>0.045092</td>\n",
              "      <td>0.062585</td>\n",
              "      <td>0.150729</td>\n",
              "      <td>0.701555</td>\n",
              "      <td>0.0</td>\n",
              "      <td>1.0</td>\n",
              "      <td>0.000000</td>\n",
              "      <td>0.258115</td>\n",
              "      <td>0.543926</td>\n",
              "      <td>0.197959</td>\n",
              "    </tr>\n",
              "  </tbody>\n",
              "</table>\n",
              "<p>4 rows × 64 columns</p>\n",
              "</div>\n",
              "      <button class=\"colab-df-convert\" onclick=\"convertToInteractive('df-ef3af93c-5c03-4284-b4c8-a2571064f07e')\"\n",
              "              title=\"Convert this dataframe to an interactive table.\"\n",
              "              style=\"display:none;\">\n",
              "        \n",
              "  <svg xmlns=\"http://www.w3.org/2000/svg\" height=\"24px\"viewBox=\"0 0 24 24\"\n",
              "       width=\"24px\">\n",
              "    <path d=\"M0 0h24v24H0V0z\" fill=\"none\"/>\n",
              "    <path d=\"M18.56 5.44l.94 2.06.94-2.06 2.06-.94-2.06-.94-.94-2.06-.94 2.06-2.06.94zm-11 1L8.5 8.5l.94-2.06 2.06-.94-2.06-.94L8.5 2.5l-.94 2.06-2.06.94zm10 10l.94 2.06.94-2.06 2.06-.94-2.06-.94-.94-2.06-.94 2.06-2.06.94z\"/><path d=\"M17.41 7.96l-1.37-1.37c-.4-.4-.92-.59-1.43-.59-.52 0-1.04.2-1.43.59L10.3 9.45l-7.72 7.72c-.78.78-.78 2.05 0 2.83L4 21.41c.39.39.9.59 1.41.59.51 0 1.02-.2 1.41-.59l7.78-7.78 2.81-2.81c.8-.78.8-2.07 0-2.86zM5.41 20L4 18.59l7.72-7.72 1.47 1.35L5.41 20z\"/>\n",
              "  </svg>\n",
              "      </button>\n",
              "      \n",
              "  <style>\n",
              "    .colab-df-container {\n",
              "      display:flex;\n",
              "      flex-wrap:wrap;\n",
              "      gap: 12px;\n",
              "    }\n",
              "\n",
              "    .colab-df-convert {\n",
              "      background-color: #E8F0FE;\n",
              "      border: none;\n",
              "      border-radius: 50%;\n",
              "      cursor: pointer;\n",
              "      display: none;\n",
              "      fill: #1967D2;\n",
              "      height: 32px;\n",
              "      padding: 0 0 0 0;\n",
              "      width: 32px;\n",
              "    }\n",
              "\n",
              "    .colab-df-convert:hover {\n",
              "      background-color: #E2EBFA;\n",
              "      box-shadow: 0px 1px 2px rgba(60, 64, 67, 0.3), 0px 1px 3px 1px rgba(60, 64, 67, 0.15);\n",
              "      fill: #174EA6;\n",
              "    }\n",
              "\n",
              "    [theme=dark] .colab-df-convert {\n",
              "      background-color: #3B4455;\n",
              "      fill: #D2E3FC;\n",
              "    }\n",
              "\n",
              "    [theme=dark] .colab-df-convert:hover {\n",
              "      background-color: #434B5C;\n",
              "      box-shadow: 0px 1px 3px 1px rgba(0, 0, 0, 0.15);\n",
              "      filter: drop-shadow(0px 1px 2px rgba(0, 0, 0, 0.3));\n",
              "      fill: #FFFFFF;\n",
              "    }\n",
              "  </style>\n",
              "\n",
              "      <script>\n",
              "        const buttonEl =\n",
              "          document.querySelector('#df-ef3af93c-5c03-4284-b4c8-a2571064f07e button.colab-df-convert');\n",
              "        buttonEl.style.display =\n",
              "          google.colab.kernel.accessAllowed ? 'block' : 'none';\n",
              "\n",
              "        async function convertToInteractive(key) {\n",
              "          const element = document.querySelector('#df-ef3af93c-5c03-4284-b4c8-a2571064f07e');\n",
              "          const dataTable =\n",
              "            await google.colab.kernel.invokeFunction('convertToInteractive',\n",
              "                                                     [key], {});\n",
              "          if (!dataTable) return;\n",
              "\n",
              "          const docLinkHtml = 'Like what you see? Visit the ' +\n",
              "            '<a target=\"_blank\" href=https://colab.research.google.com/notebooks/data_table.ipynb>data table notebook</a>'\n",
              "            + ' to learn more about interactive tables.';\n",
              "          element.innerHTML = '';\n",
              "          dataTable['output_type'] = 'display_data';\n",
              "          await google.colab.output.renderOutput(dataTable, element);\n",
              "          const docLink = document.createElement('div');\n",
              "          docLink.innerHTML = docLinkHtml;\n",
              "          element.appendChild(docLink);\n",
              "        }\n",
              "      </script>\n",
              "    </div>\n",
              "  </div>\n",
              "  "
            ]
          },
          "metadata": {},
          "execution_count": 197
        }
      ]
    },
    {
      "cell_type": "code",
      "source": [
        "user_all.mean()"
      ],
      "metadata": {
        "colab": {
          "base_uri": "https://localhost:8080/"
        },
        "id": "SZNJIxrZbCN4",
        "outputId": "58f68a48-4206-4ffc-b873-053bc533b822"
      },
      "execution_count": 198,
      "outputs": [
        {
          "output_type": "execute_result",
          "data": {
            "text/plain": [
              "Australia            0.022056\n",
              "Austria              0.000045\n",
              "Belgium              0.012461\n",
              "Brasil               0.143833\n",
              "China                0.339911\n",
              "                       ...   \n",
              "avg_cart_size_1.0    0.600045\n",
              "avg_cart_size_2.0    0.284785\n",
              "avg_cart_size_3.0    0.084438\n",
              "avg_cart_size_4.0    0.030731\n",
              "clusters             1.446979\n",
              "Length: 65, dtype: float64"
            ]
          },
          "metadata": {},
          "execution_count": 198
        }
      ]
    },
    {
      "cell_type": "code",
      "source": [
        "percent_diff = cluster_means/user_all.mean()-1\n",
        "percent_diff = percent_diff.T"
      ],
      "metadata": {
        "id": "sYmIXUmRYtKU"
      },
      "execution_count": 233,
      "outputs": []
    },
    {
      "cell_type": "code",
      "source": [
        "print(percent_diff.to_string())"
      ],
      "metadata": {
        "colab": {
          "base_uri": "https://localhost:8080/"
        },
        "id": "qhr22ujsbaqP",
        "outputId": "6dc7be19-21fc-4b06-aec5-5cede9a7f6b6"
      },
      "execution_count": 234,
      "outputs": [
        {
          "output_type": "stream",
          "name": "stdout",
          "text": [
            "clusters                                  0         1         2         3\n",
            "age_0                              0.020819  0.016937 -0.009412 -0.020227\n",
            "age_1                              0.011289 -0.011379 -0.004858  0.019230\n",
            "age_2                             -0.002068 -0.033475  0.032945 -0.010859\n",
            "age_3                             -0.033813  0.024897 -0.011261  0.004702\n",
            "age_4                              0.003758  0.000918 -0.007645  0.010736\n",
            "avg_cart_size_1.0                 -1.000000  0.666541  0.327150 -1.000000\n",
            "avg_cart_size_2.0                  0.855496 -1.000000 -0.284901  1.505778\n",
            "avg_cart_size_3.0                  3.092688 -1.000000 -1.000000  1.487910\n",
            "avg_cart_size_4.0                  3.100159 -1.000000 -1.000000  1.483354\n",
            "cat_Accessories                    1.066569 -0.441572 -0.141156  0.273749\n",
            "cat_Active                         1.086934 -0.427833 -0.181561  0.316924\n",
            "cat_Blazers & Jackets             -1.000000  0.362500 -1.000000  1.952276\n",
            "cat_Clothing Sets                 -1.000000  0.547866 -1.000000  1.675884\n",
            "cat_Dresses                       -1.000000  0.325667 -1.000000  2.007195\n",
            "cat_Fashion Hoodies & Sweatshirts  1.015706 -0.380766 -0.184652  0.296001\n",
            "cat_Intimates                     -1.000000  0.448478 -1.000000  1.824077\n",
            "cat_Jeans                          1.153700 -0.468300 -0.101658  0.186091\n",
            "cat_Jumpsuits & Rompers           -1.000000  0.428062 -1.000000  1.854518\n",
            "cat_Leggings                      -1.000000  0.346462 -1.000000  1.976190\n",
            "cat_Maternity                     -1.000000  0.368294 -1.000000  1.943637\n",
            "cat_Outerwear & Coats              1.282993 -0.525147 -0.050361  0.095416\n",
            "cat_Pants                          2.702105 -1.000000  0.447799 -1.000000\n",
            "cat_Pants & Capris                -1.000000  0.376241 -1.000000  1.931786\n",
            "cat_Plus                          -1.000000  0.350985 -1.000000  1.969445\n",
            "cat_Shorts                         1.118536 -0.402111 -0.175401  0.247699\n",
            "cat_Skirts                        -1.000000  0.391793 -1.000000  1.908599\n",
            "cat_Sleep & Lounge                 1.035533 -0.421336 -0.134303  0.249599\n",
            "cat_Socks                          2.649075 -1.000000  0.464974 -1.000000\n",
            "cat_Socks & Hosiery               -1.000000  0.398415 -1.000000  1.898724\n",
            "cat_Suits                         -1.000000  0.523919 -1.000000  1.711590\n",
            "cat_Suits & Sport Coats            2.639466 -1.000000  0.468086 -1.000000\n",
            "cat_Sweaters                       1.199815 -0.508029 -0.089173  0.193698\n",
            "cat_Swim                           0.931260 -0.374718 -0.179471  0.328727\n",
            "cat_Tops & Tees                    1.188816 -0.496177 -0.069185  0.145097\n",
            "cat_Underwear                      2.550339 -1.000000  0.496953 -1.000000\n",
            "clusters                                NaN       NaN       NaN       NaN\n",
            "country_Australia                 -0.129996  0.020066  0.008770  0.032846\n",
            "country_Austria                   -1.000000 -1.000000  1.646847 -1.000000\n",
            "country_Belgium                    0.132298  0.099399 -0.033741 -0.165358\n",
            "country_Brasil                     0.029633 -0.001090 -0.014201  0.010293\n",
            "country_China                      0.003948  0.011161 -0.008187 -0.003634\n",
            "country_Colombia                   0.751193  0.193748 -0.054697 -0.644012\n",
            "country_España                    -1.000000 -1.000000 -1.000000  3.983835\n",
            "country_France                     0.031148 -0.052645  0.045945 -0.027010\n",
            "country_Germany                   -0.015924 -0.017196  0.003747  0.028297\n",
            "country_Japan                     -0.076670  0.009842 -0.016932  0.063965\n",
            "country_Poland                    -0.071337 -0.145385  0.218151 -0.150483\n",
            "country_South Korea                0.023820 -0.010742  0.013339 -0.023627\n",
            "country_Spain                     -0.009240 -0.051114  0.040402  0.005774\n",
            "country_United Kingdom             0.017523  0.007117 -0.000945 -0.019520\n",
            "country_United States             -0.022655  0.001793  0.000987  0.009284\n",
            "events_per_purchase_0             -0.564206  0.183766  0.183766 -0.275944\n",
            "events_per_purchase_1              3.070234 -1.000000 -1.000000  1.501604\n",
            "orders_1                          -0.518165  0.095061  0.168198 -0.142443\n",
            "orders_2                           1.170494 -0.215690 -0.376546  0.316790\n",
            "orders_3                           1.294943 -0.255952 -0.430876  0.403227\n",
            "orders_4                           1.049496 -0.136470 -0.344543  0.212199\n",
            "sex_F                             -0.998767  1.000392 -1.000000  1.000392\n",
            "sex_M                              0.998375 -1.000000  0.999608 -1.000000\n",
            "traffic_Display                   -0.021289  0.024514 -0.020310  0.014673\n",
            "traffic_Email                     -0.005353  0.033534 -0.009807 -0.028271\n",
            "traffic_Facebook                   0.051050 -0.022749 -0.013203  0.027648\n",
            "traffic_Organic                   -0.018350  0.003417  0.009458 -0.011714\n",
            "traffic_Search                     0.001336 -0.002679  0.000932  0.001425\n"
          ]
        }
      ]
    },
    {
      "cell_type": "markdown",
      "source": [
        "## 5.Define Psuedonyms"
      ],
      "metadata": {
        "id": "ob4dg6ItiNny"
      }
    },
    {
      "cell_type": "code",
      "source": [
        "cluster_names = {0:'male fb shopper',\n",
        "                 1:'women barely be shopping',\n",
        "                 2:'australian men love pants',\n",
        "                 3:'fancy spanish ladies'\n",
        "                 }"
      ],
      "metadata": {
        "id": "JHdYaC_BeKx9"
      },
      "execution_count": 238,
      "outputs": []
    },
    {
      "cell_type": "code",
      "source": [
        "user_all['clusters'].replace(cluster_names)"
      ],
      "metadata": {
        "colab": {
          "base_uri": "https://localhost:8080/"
        },
        "id": "oDtQuNO8fLDu",
        "outputId": "17c740b4-a297-44ea-dc28-28f8860885c8"
      },
      "execution_count": 239,
      "outputs": [
        {
          "output_type": "execute_result",
          "data": {
            "text/plain": [
              "id\n",
              "9682     australian men love pants\n",
              "28669         fancy spanish ladies\n",
              "44370     women barely be shopping\n",
              "46250         fancy spanish ladies\n",
              "62143     women barely be shopping\n",
              "                   ...            \n",
              "35231         fancy spanish ladies\n",
              "71491         fancy spanish ladies\n",
              "6744     australian men love pants\n",
              "69788     women barely be shopping\n",
              "96700    australian men love pants\n",
              "Name: clusters, Length: 66285, dtype: object"
            ]
          },
          "metadata": {},
          "execution_count": 239
        }
      ]
    }
  ]
}